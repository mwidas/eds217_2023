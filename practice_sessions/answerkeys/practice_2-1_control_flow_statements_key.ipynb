{
 "cells": [
  {
   "cell_type": "markdown",
   "metadata": {},
   "source": [
    "# Exercise 2-1: Control Flow Statements\n"
   ]
  },
  {
   "cell_type": "markdown",
   "metadata": {},
   "source": [
    "\n",
    "## 📚  <b> Practice 1. </b> \n",
    "\n",
    "In programs, <code>if</code> statements are useful for catching errors due to user input. Define two new variables based on user input: the first prompting for a temperature value and the second prompting for the units as \"F\" or \"C\". Using the equation below, write an <code>if</code> statement that converts the temperature input to °C if it was given in °F or to °F if given in °C. Recall that all variables assigned based on user input are strings. Be sure to comment your code.\n",
    "\n",
    "Formula for conversion between °F and °C:\n",
    "$$ T_{^{\\circ} C} = (T_{^{\\circ} F} - 32) \\times 5/9 $$\n",
    "\n",
    "</div>\n"
   ]
  },
  {
   "cell_type": "code",
   "execution_count": null,
   "metadata": {},
   "outputs": [],
   "source": [
    "# User input variables\n",
    "temp_in = float(input(\"Temperature: \"))\n",
    "units_in = input(\"Temperature units (F or C): \")\n",
    "\n",
    "# Convert temperature units\n",
    "if units_in == 'F':\n",
    "    temp = (temp_in - 32) * (5/9)\n",
    "    print(\"The temperature is %d°C.\" % (temp))\n",
    "else:\n",
    "    temp = (temp_in * (9/5)) + 32\n",
    "    print(\"The temperature is %d°F.\" % (temp))\n"
   ]
  },
  {
   "cell_type": "markdown",
   "metadata": {},
   "source": [
    "## 📚  <b> Practice 2. </b> \n",
    "Using nested <code>if</code> statements and your code from Practice question #1, convert the user input temperature to the opposite units (°F to °C or vice versa), print a statement to the user that reports the temperature in the converted units and indicates whether or not the temperature below freezing. \n",
    "\n",
    "Your print statement should look something like, \n",
    "\n",
    "<code>The temperature is __°C/F. It is (not) below freezing.</code>\n"
   ]
  },
  {
   "cell_type": "code",
   "execution_count": null,
   "metadata": {},
   "outputs": [],
   "source": [
    "# User input variables\n",
    "temp_in = float(input(\"Temperature: \"))\n",
    "units_in = input(\"Temperature units (F or C): \")\n",
    "\n",
    "# Convert temperature units\n",
    "if units_in == 'F':\n",
    "    temp = (temp_in - 32) * (5/9)\n",
    "    if temp < 0:\n",
    "        print(\"The temperature is %d°C. It is below freezing.\" % (temp))\n",
    "    elif temp == 0:\n",
    "        print(\"The temperature is %d°C. It is freezing.\" % (temp))\n",
    "    else:\n",
    "        print(\"The temperature is %d°C. It is not below freezing.\" % (temp))\n",
    "else:\n",
    "    temp = (temp_in * (9/5)) + 32\n",
    "    if temp < 32:\n",
    "        print(\"The temperature is %d°F. It is below freezing.\" % (temp))\n",
    "    elif temp == 32:\n",
    "        print(\"The temperature is %d°F. It is freezing.\" % (temp))\n",
    "    else:\n",
    "        print(\"The temperature is %d°F. It is not below freezing.\" % (temp))"
   ]
  },
  {
   "cell_type": "markdown",
   "metadata": {},
   "source": [
    "## 📚  <b> Practice 3. </b> \n",
    "\n",
    "1. Create a list of the six organic elements sorted in alphabetical order and then print each element in the list.\n",
    "\n",
    "2. Given your sorted <code>org_elements</code> list and the corresponding list of atomic masses given in the cell below, use <code>enumerate()</code> in a <code>for</code> loop to print a formatted statement that expresses the atomic mass of of each element. \n",
    "\n",
    "Your formatted print statement should include the name of the element, the atomic mass rounded to 2 decimal places, and units."
   ]
  },
  {
   "cell_type": "code",
   "execution_count": 1,
   "metadata": {},
   "outputs": [
    {
     "name": "stdout",
     "output_type": "stream",
     "text": [
      "carbon\n",
      "hydrogen\n",
      "nitrogen\n",
      "oxygen\n",
      "phosphorous\n",
      "sulfur\n",
      "The atomic mass of carbon is 12.01 g/mol.\n",
      "The atomic mass of hydrogen is 1.01 g/mol.\n",
      "The atomic mass of nitrogen is 14.01 g/mol.\n",
      "The atomic mass of oxygen is 16.00 g/mol.\n",
      "The atomic mass of phosphorous is 30.97 g/mol.\n",
      "The atomic mass of sulfur is 32.06 g/mol.\n"
     ]
    }
   ],
   "source": [
    "# Define org_elements\n",
    "org_elements = ['carbon', 'oxygen', 'hydrogen','phosphorous', 'sulfur','nitrogen']\n",
    "\n",
    "org_elements.sort()\n",
    "\n",
    "# Print each element in org_elements\n",
    "for element in org_elements:\n",
    "    print(element)\n",
    "\n",
    "# Define list of atomic masses of 6 organic elements\n",
    "atomic_mass = [12.011, 1.00784, 14.0067, 15.999, 30.97376, 32.065]  # g/mol\n",
    "\n",
    "# Iterate through org_elements + print the atomic mass of each element\n",
    "for i,element in enumerate(org_elements):\n",
    "    mass = atomic_mass[i]\n",
    "    print('The atomic mass of %s is %.2f g/mol.' % (element,mass))"
   ]
  },
  {
   "cell_type": "markdown",
   "metadata": {},
   "source": [
    "Another solution using `zip()` is given in the cell below."
   ]
  },
  {
   "cell_type": "code",
   "execution_count": 2,
   "metadata": {},
   "outputs": [
    {
     "name": "stdout",
     "output_type": "stream",
     "text": [
      "The atomic mass of carbon is 12.01 g/mol.\n",
      "The atomic mass of hydrogen is 1.01 g/mol.\n",
      "The atomic mass of nitrogen is 14.01 g/mol.\n",
      "The atomic mass of oxygen is 16.00 g/mol.\n",
      "The atomic mass of phosphorous is 30.97 g/mol.\n",
      "The atomic mass of sulfur is 32.06 g/mol.\n"
     ]
    }
   ],
   "source": [
    "for element,mass in zip(org_elements,atomic_mass):\n",
    "    print('The atomic mass of %s is %.2f g/mol.' % (element,mass))"
   ]
  },
  {
   "cell_type": "markdown",
   "metadata": {},
   "source": [
    "## 📚  <b> Practice 4. </b> \n",
    "The cell below contains monthly global land-ocean surface temperature in °F for each month during the years 2015-2022. \n",
    "\n",
    "Using  <code>enumerate()</code>, <code>zip()</code>, a nested <code>for</code> loop, or some combination of the three:\n",
    "\n",
    "<ol class=\"alpha\">\n",
    "<li> Calculate the monthly global land-ocean surface temperature anomalies (deviation from the mean) in °C for 2015-2018. The mean global land-ocean surface temperature calculated over the 20th century was 15.6°C.</li>\n",
    "<li> Create a new list with the mean monthly global surface temperature anomalies in °C for 2015-2023 (i.e. calculate the mean temperature anomaly for each month and put these values in a list). Use the command <code>np.mean()</code> to calculate mean values. </li> \n",
    "<li> Print each monthly mean value with the name of the month and units. </li>\n",
    "</ol>\n",
    "</div>"
   ]
  },
  {
   "cell_type": "code",
   "execution_count": 2,
   "metadata": {},
   "outputs": [
    {
     "name": "stdout",
     "output_type": "stream",
     "text": [
      "Intel MKL WARNING: Support of Intel(R) Streaming SIMD Extensions 4.2 (Intel(R) SSE4.2) enabled only processors has been deprecated. Intel oneAPI Math Kernel Library 2025.0 will require Intel(R) Advanced Vector Extensions (Intel(R) AVX) instructions.\n",
      "Intel MKL WARNING: Support of Intel(R) Streaming SIMD Extensions 4.2 (Intel(R) SSE4.2) enabled only processors has been deprecated. Intel oneAPI Math Kernel Library 2025.0 will require Intel(R) Advanced Vector Extensions (Intel(R) AVX) instructions.\n"
     ]
    }
   ],
   "source": [
    "# Import numpy for mean calculations\n",
    "import numpy as np\n",
    "\n",
    "tempF_2015 = [61.628, 61.7, 61.808, 61.448, 61.52, 61.538, 61.394, 61.52, 61.61, 62.042, 61.988, 62.168]\n",
    "tempF_2016 = [62.186, 62.546, 62.528, 62.06, 61.79, 61.52, 61.61, 61.916, 61.718, 61.682, 61.736, 61.628]\n",
    "tempF_2017 = [61.916, 62.132, 62.168, 61.772, 61.718, 61.376, 61.556, 61.646, 61.466, 61.7, 61.664, 61.754]\n",
    "tempF_2018 = [61.556, 61.61, 61.664, 61.682, 61.556, 61.466, 61.556, 61.448, 61.52, 61.916, 61.556, 61.718]\n",
    "tempF_2019 = [61.754, 61.79, 62.186, 61.898, 61.61, 61.7, 61.772, 61.79, 61.754, 61.898, 61.862, 62.042]\n",
    "tempF_2020 = [62.186, 62.312, 62.186, 62.114, 61.898, 61.736, 61.7, 61.646, 61.862, 61.664, 62.06, 61.538]\n",
    "tempF_2021 = [61.538, 61.232, 61.664, 61.43, 61.484, 61.592, 61.736, 61.556, 61.736, 61.88, 61.772, 61.61]\n",
    "\n",
    "# List of yearly lists (may or may not be useful)\n",
    "tempF_list = [tempF_2015, tempF_2016, tempF_2017, tempF_2018, tempF_2019, tempF_2020, tempF_2021]\n",
    "\n",
    "# List of years (probably useful)\n",
    "years = [2015, 2016, 2017, 2018, 2019, 2020, 2021]\n"
   ]
  },
  {
   "cell_type": "code",
   "execution_count": 3,
   "metadata": {},
   "outputs": [
    {
     "name": "stdout",
     "output_type": "stream",
     "text": [
      "Practice 4a\n",
      "2015 anomalies: [0.86, 0.9, 0.96, 0.76, 0.8, 0.81, 0.73, 0.8, 0.85, 1.09, 1.06, 1.16]\n",
      "2016 anomalies: [1.17, 1.37, 1.36, 1.1, 0.95, 0.8, 0.85, 1.02, 0.91, 0.89, 0.92, 0.86]\n",
      "2017 anomalies: [1.02, 1.14, 1.16, 0.94, 0.91, 0.72, 0.82, 0.87, 0.77, 0.9, 0.88, 0.93]\n",
      "2018 anomalies: [0.82, 0.85, 0.88, 0.89, 0.82, 0.77, 0.82, 0.76, 0.8, 1.02, 0.82, 0.91]\n",
      "2019 anomalies: [0.93, 0.95, 1.17, 1.01, 0.85, 0.9, 0.94, 0.95, 0.93, 1.01, 0.99, 1.09]\n",
      "2020 anomalies: [1.17, 1.24, 1.17, 1.13, 1.01, 0.92, 0.9, 0.87, 0.99, 0.88, 1.1, 0.81]\n",
      "2021 anomalies: [0.81, 0.64, 0.88, 0.75, 0.78, 0.84, 0.92, 0.82, 0.92, 1.0, 0.94, 0.85]\n",
      "Practice 4b\n",
      "monthly_means: [0.9686, 1.0129, 1.0829, 0.94, 0.8743, 0.8229, 0.8543, 0.87, 0.8814, 0.97, 0.9586, 0.9443]\n"
     ]
    }
   ],
   "source": [
    "# 4a. Monthly temperature anomalies\n",
    "print('Practice 4a')\n",
    "# Empty list of lists\n",
    "tempC_list = []\n",
    "anomC_list = []\n",
    "# Iterate through yearly lists\n",
    "for tempsF,year in zip(tempF_list,years):\n",
    "    # Empty list for a single year\n",
    "    tempsC = []\n",
    "    anomsC = []\n",
    "    # Iterate through a single year\n",
    "    for tempF in tempsF:\n",
    "        # Convert temp from F to C\n",
    "        tempC = (tempF - 32.0) * (5/9)\n",
    "        # Append to tempsC\n",
    "        tempsC.append(round(tempC,2))\n",
    "        # Calculate temp anomaly in °C\n",
    "        anomC = tempC - 15.6\n",
    "        # Append to anomsC\n",
    "        anomsC.append(round(anomC,2))\n",
    "    # Add list of °C temps to tempC_list (list of lists)\n",
    "    tempC_list.append(tempsC)\n",
    "    # Add list of anomalies in °C to anomC_list (list of lists)\n",
    "    anomC_list.append(anomsC)\n",
    "for anom_list,year in zip(anomC_list,years):\n",
    "    print(f\"{year} anomalies: {anom_list}\")\n",
    "\n",
    "\n",
    "# 4b. Mean monthly temperature anomaly, 2015-2018\n",
    "print('Practice 4b')\n",
    "# Empty list for monthly mean temperature anomalies\n",
    "monthly_means = []\n",
    "# Set up generic counter loop with 12 iterations\n",
    "for i in range(12):\n",
    "    # Generate list of temperature anomalies for each month by extracting the ith value from each sublist.\n",
    "    monthly = [anom[i] for anom in anomC_list]\n",
    "    # Calculate mean for month i\n",
    "    monthly_mean = np.mean(monthly)\n",
    "    # Add mean for month i to list of means\n",
    "    monthly_means.append(round(monthly_mean,4))\n",
    "# Print list of mean monthly temperature anomalies, 2015-2018.\n",
    "print(f\"monthly_means: {monthly_means}\")\n"
   ]
  },
  {
   "cell_type": "code",
   "execution_count": 17,
   "metadata": {},
   "outputs": [
    {
     "name": "stdout",
     "output_type": "stream",
     "text": [
      "Monthly means (alternative approach): [0.9686, 1.0129, 1.0829, 0.94, 0.8743, 0.8229, 0.8543, 0.87, 0.8814, 0.97, 0.9586, 0.9443]\n"
     ]
    }
   ],
   "source": [
    "# Alternative:\n",
    "monthly_means = []\n",
    "for anomC_15,anomC_16,anomC_17,anomC_18,anomC_19,anomC_20,anomC_21 in zip(*anomC_list):\n",
    "# Note: * is an \"unpacking\" operator that extracts each sublist of anomC_list making them iterables.\n",
    "# for i,(anomC_15,anomC_16,anomC_17,anomC_18) in enumerate(zip(anomC_list[0],\n",
    "#                                                              anomC_list[1],\n",
    "#                                                              anomC_list[2],\n",
    "#                                                              anomC_list[3])):\n",
    "    # Put month i values in a list\n",
    "    monthly = [anomC_15, anomC_16, anomC_17, anomC_18, anomC_19, anomC_20, anomC_21]\n",
    "    # Calculate mean for month i\n",
    "    monthly_mean = np.mean(monthly)\n",
    "    # Add mean for month i to list of means\n",
    "    monthly_means.append(round(monthly_mean,4))\n",
    "# Print list of mean monthly temperature anomalies, 2015-2021.\n",
    "print(f\"Monthly means (alternative approach): {monthly_means}\")\n",
    "\n"
   ]
  },
  {
   "cell_type": "code",
   "execution_count": 22,
   "metadata": {},
   "outputs": [
    {
     "name": "stdout",
     "output_type": "stream",
     "text": [
      "Practice 4c\n",
      "Mean January temperature anomaly, 2015-2021: 0.9686°C\n",
      "Mean February temperature anomaly, 2015-2021: 1.0129°C\n",
      "Mean March temperature anomaly, 2015-2021: 1.0829°C\n",
      "Mean April temperature anomaly, 2015-2021: 0.9400°C\n",
      "Mean May temperature anomaly, 2015-2021: 0.8743°C\n",
      "Mean June temperature anomaly, 2015-2021: 0.8229°C\n",
      "Mean July temperature anomaly, 2015-2021: 0.8543°C\n",
      "Mean August temperature anomaly, 2015-2021: 0.8700°C\n",
      "Mean September temperature anomaly, 2015-2021: 0.8814°C\n",
      "Mean October temperature anomaly, 2015-2021: 0.9700°C\n",
      "Mean November temperature anomaly, 2015-2021: 0.9586°C\n",
      "Mean December temperature anomaly, 2015-2021: 0.9443°C\n"
     ]
    }
   ],
   "source": [
    "# 4c. Print mean temperature anomalies by month\n",
    "print('Practice 4c')\n",
    "\n",
    "months = ['January', 'February', 'March', 'April', 'May', 'June', \n",
    "          'July', 'August', 'September', 'October', 'November', 'December']\n",
    "\n",
    "for month,mean in zip(months,monthly_means):\n",
    "    print(f'Mean {month} temperature anomaly, {min(years)}-{max(years)}: {mean:.4f}°C')\n"
   ]
  },
  {
   "cell_type": "markdown",
   "metadata": {},
   "source": [
    "## 📚  Practice 5.\n",
    "\n",
    "Use a list comprehension to print a list of all months that had an anomaly above the average monthly anomaly.\n",
    "\n",
    "\n",
    "Some helpful code is provided below:\n",
    "```python\n",
    "months = ['January', 'February', 'March', 'April', 'May', 'June', 'July', 'August', 'September', 'October', 'November', 'December']\n",
    "\n",
    "average_anomaly = np.mean(mean_monthly_anomalies)\n",
    "\n",
    "```\n",
    "Recall that list comprehensions can contain <code>if</code> statements. For example:\n",
    "\n",
    "[<code>item</code> for <code>item</code> in <code>list</code> if <code>item</code> > <code>value</code>]\n",
    "\n",
    "And they can also contain enumerate statements:\n",
    "\n",
    "[<code>item</code> for <code>index,item</code> in <code>enumerate(list)</code> if <code>other_list[index]</code> > <code>value</code>]"
   ]
  },
  {
   "cell_type": "code",
   "execution_count": 28,
   "metadata": {},
   "outputs": [
    {
     "name": "stdout",
     "output_type": "stream",
     "text": [
      "Months with above average temperature anomalies:\n",
      "January\n",
      "February\n",
      "March\n",
      "April\n",
      "October\n",
      "November\n",
      "December\n"
     ]
    },
    {
     "data": {
      "text/plain": [
       "[None, None, None, None, None, None, None]"
      ]
     },
     "execution_count": 28,
     "metadata": {},
     "output_type": "execute_result"
    }
   ],
   "source": [
    "months = ['January', 'February', 'March', 'April', \n",
    "          'May', 'June', 'July', 'August', 'September', \n",
    "          'October', 'November', 'December']\n",
    "\n",
    "avg_anomaly = np.mean(monthly_means)\n",
    "\n",
    "print(\"Months with above average temperature anomalies:\")\n",
    "[\n",
    " print(month) for i,month in enumerate(months) \n",
    " if monthly_means[i] > avg_anomaly\n",
    "]\n"
   ]
  },
  {
   "cell_type": "markdown",
   "metadata": {},
   "source": [
    "<hr style=\"border-top: 1px solid gray; margin-top: 24px; margin-bottom: 1px\"></hr>"
   ]
  }
 ],
 "metadata": {
  "kernelspec": {
   "display_name": "Python 3 (ipykernel)",
   "language": "python",
   "name": "python3"
  },
  "language_info": {
   "codemirror_mode": {
    "name": "ipython",
    "version": 3
   },
   "file_extension": ".py",
   "mimetype": "text/x-python",
   "name": "python",
   "nbconvert_exporter": "python",
   "pygments_lexer": "ipython3",
   "version": "3.10.12"
  }
 },
 "nbformat": 4,
 "nbformat_minor": 4
}
