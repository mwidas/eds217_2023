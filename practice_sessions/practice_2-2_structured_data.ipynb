{
 "cells": [
  {
   "cell_type": "markdown",
   "metadata": {
    "slideshow": {
     "slide_type": "slide"
    }
   },
   "source": [
    "| [⬅️ Previous Session](practice_2-1_control_flow_statements.ipynb) | [🏠 Course Home](../index.ipynb) | [➡️ Next Session](practice_3-1_numpy.ipynb) |\n",
    "\n",
    "# Practice 1-4: Structured Data in Python"
   ]
  },
  {
   "cell_type": "markdown",
   "metadata": {},
   "source": [
    "## 📚  <b> Practice 1. </b> \n",
    "\n",
    "Dictionaries are an extremely common data structure. Often data is easiest to store according to keys, where each row of data has a unique key. \n",
    "\n",
    "For example, a dictionary of students might have a key for each student's name or id, and then a set of values that are associated with that student.\n",
    "\n",
    "### Make a dictionary of your peers.\n",
    "\n",
    "Come up with 3-4 questions and ask 5-6 of your peers to give answers to each one. The questions can be anything you want, but they should be questions that can be answered with a single word or number.\n",
    "\n",
    "For example, you might ask:\n",
    "- What is your favorite color? (pretty weak question)\n",
    "- How many siblings do you have? (ok, but not great)\n",
    "- What is your favorite genre of film? (better)\n",
    "- On a scale of 1-10, how well do you feel that you understand python dictionaries? (better still)\n",
    "\n",
    "Make sure you have a key for each person, and then a set of values for each question. \n",
    "\n",
    "Based on each person's responses, build a dictionary in the cell below:\n",
    "\n",
    "(note: You will end up with a dictionary of dictionaries)\n",
    "\n",
    "```python\n",
    "# Example:\n",
    "my_dict = {\n",
    "    'person1': {\n",
    "        'question1': 'answer1',\n",
    "        'question2': 'answer2',\n",
    "        'question3': 'answer3',\n",
    "        'question4': 'answer4',\n",
    "    },\n",
    "    'person2': {\n",
    "        'question1': 'answer1',\n",
    "        'question2': 'answer2',\n",
    "        'question3': 'answer3',\n",
    "        'question4': 'answer4',\n",
    "    },\n",
    "    'person3': {\n",
    "        'question1': 'answer1',\n",
    "        'question2': 'answer2',\n",
    "        'question3': 'answer3',\n",
    "        'question4': 'answer4',\n",
    "    },\n",
    "}\n",
    "```"
   ]
  },
  {
   "cell_type": "code",
   "execution_count": 13,
   "metadata": {},
   "outputs": [],
   "source": [
    "# Example:\n",
    "mw_dict = {\n",
    "    'Sam': {\n",
    "        'What sport do you like to watch?': 'gymnastics',\n",
    "        'On a scale of 1-10 how do you feel about snow?': 7,\n",
    "        'What item at Trader Joe do you like the most': 'garlic spread',\n",
    "        'What is your favorite animal': 'sandpiper',\n",
    "    },\n",
    "    'Patty': {\n",
    "        'What sport do you like to watch?': 'ice skating',\n",
    "        'On a scale of 1-10 how do you feel about snow?': 2,\n",
    "        'What item at Trader Joe do you like the most': 'veggie springrolls',\n",
    "        'What is your favorite animal': 'cabybara',\n",
    "    },\n",
    "    'Sofia': {\n",
    "        'What sport do you like to watch?': 'baseball',\n",
    "        'On a scale of 1-10 how do you feel about snow?': 5,\n",
    "        'What item at Trader Joe do you like the most': 'potstickers',\n",
    "        'What is your favorite animal': 'cats',\n",
    "    },\n",
    "}"
   ]
  },
  {
   "cell_type": "markdown",
   "metadata": {},
   "source": [
    "## Dictionary to dataframe\n",
    "\n",
    "Now that you have a dictionary, you can convert it to a dataframe.\n",
    "\n",
    "### Convert your dictionary to a dataframe\n",
    "\n",
    "Use the `pd.DataFrame()` function to convert your dictionary to a dataframe.\n",
    "\n",
    "```python\n",
    "import pandas as pd\n",
    "\n",
    "# Convert a dictionary to a dataframe\n",
    "df = pd.DataFrame(my_dict)\n",
    "```\n"
   ]
  },
  {
   "cell_type": "code",
   "execution_count": 14,
   "metadata": {},
   "outputs": [],
   "source": [
    "import pandas as pd\n",
    "\n",
    "mw_df = pd.DataFrame(mw_dict)"
   ]
  },
  {
   "cell_type": "markdown",
   "metadata": {},
   "source": [
    "\n",
    "### Investigate your dataframe using the following functions:\n",
    "\n",
    "- `df.head()`\n",
    "- `df.tail()`\n",
    "- `df.info()`\n",
    "\n"
   ]
  },
  {
   "cell_type": "code",
   "execution_count": 15,
   "metadata": {},
   "outputs": [
    {
     "data": {
      "text/html": [
       "<div>\n",
       "<style scoped>\n",
       "    .dataframe tbody tr th:only-of-type {\n",
       "        vertical-align: middle;\n",
       "    }\n",
       "\n",
       "    .dataframe tbody tr th {\n",
       "        vertical-align: top;\n",
       "    }\n",
       "\n",
       "    .dataframe thead th {\n",
       "        text-align: right;\n",
       "    }\n",
       "</style>\n",
       "<table border=\"1\" class=\"dataframe\">\n",
       "  <thead>\n",
       "    <tr style=\"text-align: right;\">\n",
       "      <th></th>\n",
       "      <th>Sam</th>\n",
       "      <th>Patty</th>\n",
       "      <th>Sofia</th>\n",
       "    </tr>\n",
       "  </thead>\n",
       "  <tbody>\n",
       "    <tr>\n",
       "      <th>What sport do you like to watch?</th>\n",
       "      <td>gymnastics</td>\n",
       "      <td>ice skating</td>\n",
       "      <td>baseball</td>\n",
       "    </tr>\n",
       "    <tr>\n",
       "      <th>On a scale of 1-10 how do you feel about snow?</th>\n",
       "      <td>7</td>\n",
       "      <td>2</td>\n",
       "      <td>5</td>\n",
       "    </tr>\n",
       "    <tr>\n",
       "      <th>What item at Trader Joe do you like the most</th>\n",
       "      <td>garlic spread</td>\n",
       "      <td>veggie springrolls</td>\n",
       "      <td>potstickers</td>\n",
       "    </tr>\n",
       "    <tr>\n",
       "      <th>What is your favorite animal</th>\n",
       "      <td>sandpiper</td>\n",
       "      <td>cabybara</td>\n",
       "      <td>cats</td>\n",
       "    </tr>\n",
       "  </tbody>\n",
       "</table>\n",
       "</div>"
      ],
      "text/plain": [
       "                                                          Sam   \n",
       "What sport do you like to watch?                   gymnastics  \\\n",
       "On a scale of 1-10 how do you feel about snow?              7   \n",
       "What item at Trader Joe do you like the most    garlic spread   \n",
       "What is your favorite animal                        sandpiper   \n",
       "\n",
       "                                                             Patty   \n",
       "What sport do you like to watch?                       ice skating  \\\n",
       "On a scale of 1-10 how do you feel about snow?                   2   \n",
       "What item at Trader Joe do you like the most    veggie springrolls   \n",
       "What is your favorite animal                              cabybara   \n",
       "\n",
       "                                                      Sofia  \n",
       "What sport do you like to watch?                   baseball  \n",
       "On a scale of 1-10 how do you feel about snow?            5  \n",
       "What item at Trader Joe do you like the most    potstickers  \n",
       "What is your favorite animal                           cats  "
      ]
     },
     "execution_count": 15,
     "metadata": {},
     "output_type": "execute_result"
    }
   ],
   "source": [
    "mw_df.head()"
   ]
  },
  {
   "cell_type": "markdown",
   "metadata": {},
   "source": [
    "Is your dataframe what you expected? If not, what is different? Why?? How would you need to change your data structure to get the dataframe you expected?"
   ]
  },
  {
   "cell_type": "code",
   "execution_count": null,
   "metadata": {},
   "outputs": [],
   "source": [
    "# I would want the variables to be the columns"
   ]
  },
  {
   "cell_type": "markdown",
   "metadata": {},
   "source": [
    "\n",
    "\n",
    "`df.transpose()` might be helpful here. What does it do?\n",
    "create a new dataframe that is a transposed version of your original dataframe.\n",
    "\n",
    "```python\n",
    "# Transpose a dataframe\n",
    "df_transposed = df.transpose()\n",
    "```"
   ]
  },
  {
   "cell_type": "code",
   "execution_count": 16,
   "metadata": {},
   "outputs": [],
   "source": [
    "# Transpose your dataframe so that the people are the rows and the questions are the columns.\n",
    "mw_df_transposed = mw_df.transpose()\n"
   ]
  },
  {
   "cell_type": "markdown",
   "metadata": {},
   "source": [
    "### Visualize/summarize your dataframe using one or more of the following functions:\n",
    "\n",
    "- `df.describe()`\n",
    "- `df.plot()`\n",
    "- `df.hist()`"
   ]
  },
  {
   "cell_type": "code",
   "execution_count": 19,
   "metadata": {},
   "outputs": [
    {
     "data": {
      "text/plain": [
       "<Axes: >"
      ]
     },
     "execution_count": 19,
     "metadata": {},
     "output_type": "execute_result"
    },
    {
     "data": {
      "image/png": "[encoded data removed]",
      "text/plain": [
       "<Figure size 640x480 with 1 Axes>"
      ]
     },
     "metadata": {},
     "output_type": "display_data"
    }
   ],
   "source": [
    "mw_df_transposed.describe()\n",
    "mw_df_transposed.plot()"
   ]
  },
  {
   "cell_type": "markdown",
   "metadata": {},
   "source": [
    "## 📚  <b> Practice 2. </b>\n",
    "\n",
    "### Structured data search: Find structured data on the internet and convert it to a dataframe.\n",
    "\n",
    "You're looking for data that is in a table format, like a spreadsheet, but not available as an easy to download `.csv` or `.excel` file. This turns out to describe a lot of data!\n",
    "\n",
    "Often you can find this kind of data on wikipedia, or on government websites, or in research articles that contain tables of results.\n"
   ]
  },
  {
   "cell_type": "markdown",
   "metadata": {},
   "source": [
    "https://essd.copernicus.org/articles/14/1257/2022/"
   ]
  },
  {
   "cell_type": "code",
   "execution_count": 20,
   "metadata": {},
   "outputs": [],
   "source": [
    "permafrost_dict = {\n",
    "    '#1': {\n",
    "        'Elevation': 3576.4,\n",
    "        'Vegetation Type': 'Swamp meadow',\n",
    "        'Frozen Soil Type': 'Permafrost',\n",
    "    },\n",
    "    '#2': {\n",
    "        'Elevation': 3576.9,\n",
    "        'Vegetation Type': 'Swamp meadow',\n",
    "        'Frozen Soil Type': 'Permafrost',\n",
    "    },\n",
    "    '#4': {\n",
    "        'Elevation': 3577.2,\n",
    "        'Vegetation Type': 'Swamp meadow',\n",
    "        'Frozen Soil Type': 'Permafrost',\n",
    "    },\n",
    "    '#7': {\n",
    "        'Elevation': 3567.0,\n",
    "        'Vegetation Type': 'Alpine meadow',\n",
    "        'Frozen Soil Type': 'Seasonally frozen ground',\n",
    "    },\n",
    "    '#9': {\n",
    "        'Elevation': 3578.7,\n",
    "        'Vegetation Type': 'Swamp meadow',\n",
    "        'Frozen Soil Type': 'Permafrost',\n",
    "    },\n",
    "}"
   ]
  },
  {
   "cell_type": "markdown",
   "metadata": {},
   "source": [
    "### Convert your data to a dataframe"
   ]
  },
  {
   "cell_type": "code",
   "execution_count": 29,
   "metadata": {},
   "outputs": [
    {
     "data": {
      "text/html": [
       "<div>\n",
       "<style scoped>\n",
       "    .dataframe tbody tr th:only-of-type {\n",
       "        vertical-align: middle;\n",
       "    }\n",
       "\n",
       "    .dataframe tbody tr th {\n",
       "        vertical-align: top;\n",
       "    }\n",
       "\n",
       "    .dataframe thead th {\n",
       "        text-align: right;\n",
       "    }\n",
       "</style>\n",
       "<table border=\"1\" class=\"dataframe\">\n",
       "  <thead>\n",
       "    <tr style=\"text-align: right;\">\n",
       "      <th></th>\n",
       "      <th>#1</th>\n",
       "      <th>#2</th>\n",
       "      <th>#4</th>\n",
       "      <th>#7</th>\n",
       "      <th>#9</th>\n",
       "    </tr>\n",
       "  </thead>\n",
       "  <tbody>\n",
       "    <tr>\n",
       "      <th>Elevation</th>\n",
       "      <td>3576.4</td>\n",
       "      <td>3576.9</td>\n",
       "      <td>3577.2</td>\n",
       "      <td>3567.0</td>\n",
       "      <td>3578.7</td>\n",
       "    </tr>\n",
       "    <tr>\n",
       "      <th>Vegetation Type</th>\n",
       "      <td>Swamp meadow</td>\n",
       "      <td>Swamp meadow</td>\n",
       "      <td>Swamp meadow</td>\n",
       "      <td>Alpine meadow</td>\n",
       "      <td>Swamp meadow</td>\n",
       "    </tr>\n",
       "    <tr>\n",
       "      <th>Frozen Soil Type</th>\n",
       "      <td>Permafrost</td>\n",
       "      <td>Permafrost</td>\n",
       "      <td>Permafrost</td>\n",
       "      <td>Seasonally frozen ground</td>\n",
       "      <td>Permafrost</td>\n",
       "    </tr>\n",
       "  </tbody>\n",
       "</table>\n",
       "</div>"
      ],
      "text/plain": [
       "                            #1            #2            #4   \n",
       "Elevation               3576.4        3576.9        3577.2  \\\n",
       "Vegetation Type   Swamp meadow  Swamp meadow  Swamp meadow   \n",
       "Frozen Soil Type    Permafrost    Permafrost    Permafrost   \n",
       "\n",
       "                                        #7            #9  \n",
       "Elevation                           3567.0        3578.7  \n",
       "Vegetation Type              Alpine meadow  Swamp meadow  \n",
       "Frozen Soil Type  Seasonally frozen ground    Permafrost  "
      ]
     },
     "execution_count": 29,
     "metadata": {},
     "output_type": "execute_result"
    }
   ],
   "source": [
    "permafrost_df = pd.DataFrame(permafrost_dict)\n",
    "permafrost_df.head()"
   ]
  },
  {
   "cell_type": "code",
   "execution_count": 30,
   "metadata": {},
   "outputs": [
    {
     "data": {
      "text/html": [
       "<div>\n",
       "<style scoped>\n",
       "    .dataframe tbody tr th:only-of-type {\n",
       "        vertical-align: middle;\n",
       "    }\n",
       "\n",
       "    .dataframe tbody tr th {\n",
       "        vertical-align: top;\n",
       "    }\n",
       "\n",
       "    .dataframe thead th {\n",
       "        text-align: right;\n",
       "    }\n",
       "</style>\n",
       "<table border=\"1\" class=\"dataframe\">\n",
       "  <thead>\n",
       "    <tr style=\"text-align: right;\">\n",
       "      <th></th>\n",
       "      <th>Elevation</th>\n",
       "      <th>Vegetation Type</th>\n",
       "      <th>Frozen Soil Type</th>\n",
       "    </tr>\n",
       "  </thead>\n",
       "  <tbody>\n",
       "    <tr>\n",
       "      <th>#1</th>\n",
       "      <td>3576.4</td>\n",
       "      <td>Swamp meadow</td>\n",
       "      <td>Permafrost</td>\n",
       "    </tr>\n",
       "    <tr>\n",
       "      <th>#2</th>\n",
       "      <td>3576.9</td>\n",
       "      <td>Swamp meadow</td>\n",
       "      <td>Permafrost</td>\n",
       "    </tr>\n",
       "    <tr>\n",
       "      <th>#4</th>\n",
       "      <td>3577.2</td>\n",
       "      <td>Swamp meadow</td>\n",
       "      <td>Permafrost</td>\n",
       "    </tr>\n",
       "    <tr>\n",
       "      <th>#7</th>\n",
       "      <td>3567.0</td>\n",
       "      <td>Alpine meadow</td>\n",
       "      <td>Seasonally frozen ground</td>\n",
       "    </tr>\n",
       "    <tr>\n",
       "      <th>#9</th>\n",
       "      <td>3578.7</td>\n",
       "      <td>Swamp meadow</td>\n",
       "      <td>Permafrost</td>\n",
       "    </tr>\n",
       "  </tbody>\n",
       "</table>\n",
       "</div>"
      ],
      "text/plain": [
       "   Elevation Vegetation Type          Frozen Soil Type\n",
       "#1    3576.4    Swamp meadow                Permafrost\n",
       "#2    3576.9    Swamp meadow                Permafrost\n",
       "#4    3577.2    Swamp meadow                Permafrost\n",
       "#7    3567.0   Alpine meadow  Seasonally frozen ground\n",
       "#9    3578.7    Swamp meadow                Permafrost"
      ]
     },
     "execution_count": 30,
     "metadata": {},
     "output_type": "execute_result"
    }
   ],
   "source": [
    "\n",
    "permafrost_df_transpose = permafrost_df.transpose()\n",
    "permafrost_df_transpose.head()"
   ]
  },
  {
   "cell_type": "markdown",
   "metadata": {},
   "source": [
    "## Explore your dataframe using the following functions:\n",
    "\n",
    "- `df.describe()`\n",
    "- `df.plot()`\n",
    "- `df.hist()`"
   ]
  },
  {
   "cell_type": "code",
   "execution_count": 36,
   "metadata": {},
   "outputs": [
    {
     "data": {
      "text/plain": [
       "<Axes: ylabel='Elevation'>"
      ]
     },
     "execution_count": 36,
     "metadata": {},
     "output_type": "execute_result"
    },
    {
     "data": {
      "image/png": "[encoded data removed]",
      "text/plain": [
       "<Figure size 640x480 with 1 Axes>"
      ]
     },
     "metadata": {},
     "output_type": "display_data"
    },
    {
     "data": {
      "image/png": "[encoded data removed]",
      "text/plain": [
       "<Figure size 640x480 with 1 Axes>"
      ]
     },
     "metadata": {},
     "output_type": "display_data"
    },
    {
     "data": {
      "image/png": "[encoded data removed]",
      "text/plain": [
       "<Figure size 640x480 with 1 Axes>"
      ]
     },
     "metadata": {},
     "output_type": "display_data"
    }
   ],
   "source": [
    "permafrost_df_transpose.plot()\n",
    "permafrost_df_transpose.plot.bar()\n",
    "permafrost_df_transpose.plot.pie(y = 'Elevation')"
   ]
  }
 ],
 "metadata": {
  "kernelspec": {
   "display_name": "Python 3",
   "language": "python",
   "name": "python3"
  },
  "language_info": {
   "codemirror_mode": {
    "name": "ipython",
    "version": 3
   },
   "file_extension": ".py",
   "mimetype": "text/x-python",
   "name": "python",
   "nbconvert_exporter": "python",
   "pygments_lexer": "ipython3",
   "version": "3.10.12"
  }
 },
 "nbformat": 4,
 "nbformat_minor": 4
}
